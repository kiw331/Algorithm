{
 "cells": [
  {
   "cell_type": "code",
   "execution_count": 1,
   "metadata": {},
   "outputs": [
    {
     "data": {
      "text/plain": [
       "['__add__',\n",
       " '__class__',\n",
       " '__contains__',\n",
       " '__delattr__',\n",
       " '__dir__',\n",
       " '__doc__',\n",
       " '__eq__',\n",
       " '__format__',\n",
       " '__ge__',\n",
       " '__getattribute__',\n",
       " '__getitem__',\n",
       " '__getnewargs__',\n",
       " '__gt__',\n",
       " '__hash__',\n",
       " '__init__',\n",
       " '__init_subclass__',\n",
       " '__iter__',\n",
       " '__le__',\n",
       " '__len__',\n",
       " '__lt__',\n",
       " '__mod__',\n",
       " '__mul__',\n",
       " '__ne__',\n",
       " '__new__',\n",
       " '__reduce__',\n",
       " '__reduce_ex__',\n",
       " '__repr__',\n",
       " '__rmod__',\n",
       " '__rmul__',\n",
       " '__setattr__',\n",
       " '__sizeof__',\n",
       " '__str__',\n",
       " '__subclasshook__',\n",
       " 'capitalize',\n",
       " 'casefold',\n",
       " 'center',\n",
       " 'count',\n",
       " 'encode',\n",
       " 'endswith',\n",
       " 'expandtabs',\n",
       " 'find',\n",
       " 'format',\n",
       " 'format_map',\n",
       " 'index',\n",
       " 'isalnum',\n",
       " 'isalpha',\n",
       " 'isascii',\n",
       " 'isdecimal',\n",
       " 'isdigit',\n",
       " 'isidentifier',\n",
       " 'islower',\n",
       " 'isnumeric',\n",
       " 'isprintable',\n",
       " 'isspace',\n",
       " 'istitle',\n",
       " 'isupper',\n",
       " 'join',\n",
       " 'ljust',\n",
       " 'lower',\n",
       " 'lstrip',\n",
       " 'maketrans',\n",
       " 'partition',\n",
       " 'removeprefix',\n",
       " 'removesuffix',\n",
       " 'replace',\n",
       " 'rfind',\n",
       " 'rindex',\n",
       " 'rjust',\n",
       " 'rpartition',\n",
       " 'rsplit',\n",
       " 'rstrip',\n",
       " 'split',\n",
       " 'splitlines',\n",
       " 'startswith',\n",
       " 'strip',\n",
       " 'swapcase',\n",
       " 'title',\n",
       " 'translate',\n",
       " 'upper',\n",
       " 'zfill']"
      ]
     },
     "execution_count": 1,
     "metadata": {},
     "output_type": "execute_result"
    }
   ],
   "source": [
    "# 메서드 확인\n",
    "dir(str)"
   ]
  },
  {
   "cell_type": "markdown",
   "metadata": {},
   "source": [
    "### __리스트 조작__"
   ]
  },
  {
   "cell_type": "markdown",
   "metadata": {},
   "source": [
    "__요소 삭제__"
   ]
  },
  {
   "cell_type": "code",
   "execution_count": 13,
   "metadata": {},
   "outputs": [
    {
     "data": {
      "text/plain": [
       "[1, 2, 3, 3, 4, 5]"
      ]
     },
     "execution_count": 13,
     "metadata": {},
     "output_type": "execute_result"
    }
   ],
   "source": [
    "# .remove(): 특정값을 가지는 원소 제거. (가장 앞에 있는 하나의 원소만 삭제 됨)\n",
    "a = [1,2,3,3,3,4,5]\n",
    "a.remove(3)\n",
    "a"
   ]
  },
  {
   "cell_type": "code",
   "execution_count": 18,
   "metadata": {},
   "outputs": [
    {
     "data": {
      "text/plain": [
       "[1, 2, 4, 5]"
      ]
     },
     "execution_count": 18,
     "metadata": {},
     "output_type": "execute_result"
    }
   ],
   "source": [
    "# 특정 값을 가지는 원소를 모두 제거\n",
    "a = [1,2,3,3,3,4,5]\n",
    "remove_set = {3}\n",
    "\n",
    "res = [i for i in a if i not in remove_set]  \n",
    "res"
   ]
  },
  {
   "cell_type": "code",
   "execution_count": 20,
   "metadata": {},
   "outputs": [
    {
     "data": {
      "text/plain": [
       "[1, 2, 3, 4, 5]"
      ]
     },
     "execution_count": 20,
     "metadata": {},
     "output_type": "execute_result"
    }
   ],
   "source": [
    "# 잘못된 방법. 원소가 삭제되면서 뒤에 인덱스가 하나씩 앞으로 당겨짐\n",
    "a = [1,2,3,3,3,4,5]\n",
    "remove_set = {3}\n",
    "\n",
    "for i in a:\n",
    "    if i in remove_set:\n",
    "        a.remove(i)\n",
    "        \n",
    "a"
   ]
  },
  {
   "cell_type": "code",
   "execution_count": 21,
   "metadata": {},
   "outputs": [
    {
     "data": {
      "text/plain": [
       "[2, 3, 3, 3, 4, 5]"
      ]
     },
     "execution_count": 21,
     "metadata": {},
     "output_type": "execute_result"
    }
   ],
   "source": [
    "# del\n",
    "a = [1,2,3,3,3,4,5]\n",
    "del a[0]\n",
    "a"
   ]
  },
  {
   "cell_type": "code",
   "execution_count": 22,
   "metadata": {},
   "outputs": [
    {
     "name": "stdout",
     "output_type": "stream",
     "text": [
      "5 [1, 2, 3, 3, 3, 4]\n"
     ]
    }
   ],
   "source": [
    "# pop 스택의 팝. 마지막 원소 삭제, 반환\n",
    "a = [1,2,3,4,5,6]\n",
    "p = a.pop()\n",
    "\n",
    "print(p, a)"
   ]
  },
  {
   "cell_type": "code",
   "execution_count": 25,
   "metadata": {},
   "outputs": [
    {
     "name": "stdout",
     "output_type": "stream",
     "text": [
      "4 [1, 2, 3, 5, 6]\n"
     ]
    }
   ],
   "source": [
    "# 인덱스가 3인 원소 pop()\n",
    "a = [1,2,3,4,5,6]\n",
    "p = a.pop(3)\n",
    "print(p, a)"
   ]
  },
  {
   "cell_type": "code",
   "execution_count": 26,
   "metadata": {},
   "outputs": [
    {
     "name": "stdout",
     "output_type": "stream",
     "text": [
      "1 [2, 3, 4, 5, 6]\n"
     ]
    }
   ],
   "source": [
    "# 응용 - 가장 작은/큰 원소 pop\n",
    "a = [1,2,3,4,5,6]\n",
    "\n",
    "minidx = a.index(min(a))\n",
    "maxidx = a.index(max(a))\n",
    "\n",
    "p = a.pop(minidx)\n",
    "print(p,a)"
   ]
  },
  {
   "cell_type": "markdown",
   "metadata": {},
   "source": [
    "__.sort(), sorted()__"
   ]
  },
  {
   "cell_type": "code",
   "execution_count": 7,
   "metadata": {},
   "outputs": [
    {
     "name": "stdout",
     "output_type": "stream",
     "text": [
      "[1, 3, 8, 13, 22, 23, 32, 58]\n",
      "None\n"
     ]
    }
   ],
   "source": [
    "# 리스트.sort(): 리스트 정렬(원본 리스트 수정), 반환값 없음\n",
    "l = [3, 8, 22, 1, 32, 13, 58, 23]\n",
    "l.sort()\n",
    "print(l)\n",
    "\n",
    "l = [3, 2, 1]\n",
    "rl = l.sort()\n",
    "print(rl)"
   ]
  },
  {
   "cell_type": "code",
   "execution_count": 8,
   "metadata": {},
   "outputs": [
    {
     "name": "stdout",
     "output_type": "stream",
     "text": [
      "[3, 8, 22, 1, 32, 13, 58, 23]\n",
      "[1, 3, 8, 13, 22, 23, 32, 58]\n"
     ]
    }
   ],
   "source": [
    "# sorted(): 원본 리스트 변경없이 새로운 리스트 반환\n",
    "l = [3, 8, 22, 1, 32, 13, 58, 23]\n",
    "sorted_list = sorted(l)\n",
    "\n",
    "print(l)\n",
    "print(sorted_list)"
   ]
  },
  {
   "attachments": {},
   "cell_type": "markdown",
   "metadata": {},
   "source": [
    "### __배열 초기화__"
   ]
  },
  {
   "cell_type": "markdown",
   "metadata": {},
   "source": [
    "* **n개의 정수0으로 채운 리스트**"
   ]
  },
  {
   "cell_type": "code",
   "execution_count": 3,
   "metadata": {},
   "outputs": [
    {
     "data": {
      "text/plain": [
       "[0, 0, 0, 0]"
      ]
     },
     "execution_count": 3,
     "metadata": {},
     "output_type": "execute_result"
    }
   ],
   "source": [
    "m, n = 3,4\n",
    "[0 for _ in range(n)]"
   ]
  },
  {
   "cell_type": "code",
   "execution_count": 3,
   "metadata": {},
   "outputs": [
    {
     "data": {
      "text/plain": [
       "[0, 0, 0, 0]"
      ]
     },
     "execution_count": 3,
     "metadata": {},
     "output_type": "execute_result"
    }
   ],
   "source": [
    "[0 ] * n"
   ]
  },
  {
   "cell_type": "code",
   "execution_count": 5,
   "metadata": {},
   "outputs": [
    {
     "name": "stdout",
     "output_type": "stream",
     "text": [
      "[0]\n",
      "['aaaa']\n",
      "['a', 'a', 'a', 'a']\n"
     ]
    }
   ],
   "source": [
    "print([0 * n])      #이렇게는 안됨\n",
    "print(['a' * n])    #문자\n",
    "print(['a']*n)"
   ]
  },
  {
   "attachments": {},
   "cell_type": "markdown",
   "metadata": {},
   "source": [
    "#### __2차원 배열 초기화__"
   ]
  },
  {
   "cell_type": "code",
   "execution_count": 2,
   "metadata": {},
   "outputs": [
    {
     "data": {
      "text/plain": [
       "[[0, 0, 0], [0, 0, 0], [0, 0, 0], [0, 0, 0]]"
      ]
     },
     "execution_count": 2,
     "metadata": {},
     "output_type": "execute_result"
    }
   ],
   "source": [
    "arr = [[0 for _ in range(3)] for _ in range(4)]\n",
    "arr"
   ]
  },
  {
   "cell_type": "code",
   "execution_count": 6,
   "metadata": {},
   "outputs": [
    {
     "data": {
      "text/plain": [
       "[[0, 0, 0], [0, 0, 0], [0, 0, 0], [0, 0, 0]]"
      ]
     },
     "execution_count": 6,
     "metadata": {},
     "output_type": "execute_result"
    }
   ],
   "source": [
    "arr = [[0] * 3 for _ in range(4)]\n",
    "arr"
   ]
  },
  {
   "cell_type": "code",
   "execution_count": 8,
   "metadata": {},
   "outputs": [
    {
     "name": "stdout",
     "output_type": "stream",
     "text": [
      "[[0, 0, 0], [0, 0, 0], [0, 0, 0], [0, 0, 0]]\n"
     ]
    },
    {
     "data": {
      "text/plain": [
       "[[0, -1, 0], [0, -1, 0], [0, -1, 0], [0, -1, 0]]"
      ]
     },
     "execution_count": 8,
     "metadata": {},
     "output_type": "execute_result"
    }
   ],
   "source": [
    "arr = [[0] * 3 ] * 4    # 사용 주의\n",
    "print(arr)\n",
    "\n",
    "# * 을 사용하면, 주소값을 복사하여 2차원 배열을 만드는 것이기 때문에 \n",
    "# arr[0][x]을 수정하면 같은 주소를 공유하는 arr[0][x], arr[1][x], arr[2][x] 의 값이 한번에 변경되는 문제가 발생한다.\n",
    "# https://dailylifeofdeveloper.tistory.com/114 참고\n",
    "\n",
    "arr[0][1] = -1\n",
    "arr # 1인덱스의 원소가 같이 바뀜"
   ]
  },
  {
   "cell_type": "markdown",
   "metadata": {},
   "source": [
    "* **m개의 \\* 문자열 n개를 채운 리스트**"
   ]
  },
  {
   "cell_type": "code",
   "execution_count": 5,
   "metadata": {},
   "outputs": [
    {
     "name": "stdout",
     "output_type": "stream",
     "text": [
      "['****', '****', '****', '****']\n"
     ]
    }
   ],
   "source": [
    "a = ['*'*n for _ in range(n)]\n",
    "print(a)\n",
    "\n",
    "a = []"
   ]
  },
  {
   "cell_type": "markdown",
   "metadata": {},
   "source": [
    "* **m개의 \\* 리스트 n개를 채운 리스트**"
   ]
  },
  {
   "cell_type": "code",
   "execution_count": 3,
   "metadata": {},
   "outputs": [
    {
     "data": {
      "text/plain": [
       "[['*', '*', '*'], ['*', '*', '*'], ['*', '*', '*']]"
      ]
     },
     "execution_count": 3,
     "metadata": {},
     "output_type": "execute_result"
    }
   ],
   "source": [
    "a = [list('*'*n) for _ in range(n)]\n",
    "a"
   ]
  },
  {
   "cell_type": "code",
   "execution_count": 5,
   "metadata": {},
   "outputs": [
    {
     "data": {
      "text/plain": [
       "[['*', '*', '*'], ['*', '*', '*'], ['*', '*', '*']]"
      ]
     },
     "execution_count": 5,
     "metadata": {},
     "output_type": "execute_result"
    }
   ],
   "source": [
    "a = [['*'] * n for _ in range(n)]\n",
    "a"
   ]
  },
  {
   "cell_type": "markdown",
   "metadata": {},
   "source": [
    "조건문 주의 <br>\n",
    "\n",
    "```\n",
    "if 'a' or 'b' in text -> 틀린표현. 앞에가 먼저 결합되서 항상 True (공백아닌 문자열은 True)\n",
    "```\n",
    "\n",
    "\n",
    "```\n",
    "if 'a' in text or 'b' in text:\n",
    "```\n"
   ]
  },
  {
   "cell_type": "code",
   "execution_count": 22,
   "metadata": {},
   "outputs": [
    {
     "name": "stdout",
     "output_type": "stream",
     "text": [
      "o1\n",
      "o2\n"
     ]
    }
   ],
   "source": [
    "text = 'bbb'\n",
    "if 'c' or 'd' in text:  #항상 True\n",
    "    print('o1') \n",
    "if 'a' in text or 'b' in text:\n",
    "    print('o2')"
   ]
  },
  {
   "attachments": {},
   "cell_type": "markdown",
   "metadata": {},
   "source": [
    "- __리스트에서 최대,최소값의 찾기__"
   ]
  },
  {
   "attachments": {},
   "cell_type": "markdown",
   "metadata": {},
   "source": [
    "인덱스 찾기\n",
    "(중복원소가 있어도 가장 앞에꺼 반환)"
   ]
  },
  {
   "cell_type": "code",
   "execution_count": 2,
   "metadata": {},
   "outputs": [
    {
     "name": "stdout",
     "output_type": "stream",
     "text": [
      "5 3\n"
     ]
    }
   ],
   "source": [
    "a = [100, -1, 10, 1000, 11, -200, 0, -200]\n",
    "minidx = a.index(min(a))\n",
    "maxidx = a.index(max(a))\n",
    "\n",
    "print(minidx, maxidx)"
   ]
  },
  {
   "attachments": {},
   "cell_type": "markdown",
   "metadata": {},
   "source": [
    "2차원 리스트의 모든 원소 중 최대값"
   ]
  },
  {
   "cell_type": "code",
   "execution_count": 3,
   "metadata": {},
   "outputs": [
    {
     "data": {
      "text/plain": [
       "12"
      ]
     },
     "execution_count": 3,
     "metadata": {},
     "output_type": "execute_result"
    }
   ],
   "source": [
    "a = [[1,2,3,4],[5,6,7,8],[9,10,11,12]]\n",
    "max(map(max, a))"
   ]
  },
  {
   "attachments": {},
   "cell_type": "markdown",
   "metadata": {},
   "source": [
    "### __리스트 표현식__"
   ]
  },
  {
   "attachments": {},
   "cell_type": "markdown",
   "metadata": {},
   "source": [
    "- a[i+1]<=a[i]가 되도록 변경 ( 점점 작아지도록 )"
   ]
  },
  {
   "cell_type": "code",
   "execution_count": 4,
   "metadata": {},
   "outputs": [
    {
     "data": {
      "text/plain": [
       "[1000, 10, 10, 10, 1]"
      ]
     },
     "execution_count": 4,
     "metadata": {},
     "output_type": "execute_result"
    }
   ],
   "source": [
    "a = [1000, 10, 10000, 100, 1]\n",
    "for i in range(1, len(a)):\n",
    "    if a[i] > a[i-1]:\n",
    "        a[i] = a[i-1]\n",
    "a"
   ]
  },
  {
   "cell_type": "code",
   "execution_count": 6,
   "metadata": {},
   "outputs": [
    {
     "data": {
      "text/plain": [
       "[1000, 10, 10, 100, 1]"
      ]
     },
     "execution_count": 6,
     "metadata": {},
     "output_type": "execute_result"
    }
   ],
   "source": [
    "# 실패(앞에 바꾼게 적용이 안됨)\n",
    "\n",
    "a = [1000, 10, 10000, 100, 1]\n",
    "# a = [1, 2, 3, 4, 5]   \n",
    "a = a[:1] + [min(a[i-1],a[i]) for i in range(1,len(a))]\n",
    "a"
   ]
  },
  {
   "cell_type": "markdown",
   "metadata": {},
   "source": [
    "- __표현식 안에서 변수 접근__"
   ]
  },
  {
   "cell_type": "code",
   "execution_count": 8,
   "metadata": {},
   "outputs": [
    {
     "data": {
      "text/plain": [
       "[[1, 2, 3, 4], [5, 6, 7, 8], [9, 10, 11, 12]]"
      ]
     },
     "execution_count": 8,
     "metadata": {},
     "output_type": "execute_result"
    }
   ],
   "source": [
    "a = [[1,2,3,4],[5,6,7,8],[9,10,11,12]]\n",
    "\n",
    "[[j for j in i] for i in a ]\n",
    "# j에 직접 접근해야될 때 사용가능 j.data"
   ]
  },
  {
   "cell_type": "code",
   "execution_count": 9,
   "metadata": {},
   "outputs": [
    {
     "ename": "TypeError",
     "evalue": "'int' object is not iterable",
     "output_type": "error",
     "traceback": [
      "\u001b[1;31m---------------------------------------------------------------------------\u001b[0m",
      "\u001b[1;31mTypeError\u001b[0m                                 Traceback (most recent call last)",
      "\u001b[1;32mc:\\Users\\KangIW\\git_j500\\Algorithm\\python_st\\python3_me.ipynb Cell 23\u001b[0m in \u001b[0;36m<cell line: 2>\u001b[1;34m()\u001b[0m\n\u001b[0;32m      <a href='vscode-notebook-cell:/c%3A/Users/KangIW/git_j500/Algorithm/python_st/python3_me.ipynb#X41sZmlsZQ%3D%3D?line=0'>1</a>\u001b[0m \u001b[39m# 2차원 리스트의 원소를 한번에 출력-실패\u001b[39;00m\n\u001b[1;32m----> <a href='vscode-notebook-cell:/c%3A/Users/KangIW/git_j500/Algorithm/python_st/python3_me.ipynb#X41sZmlsZQ%3D%3D?line=1'>2</a>\u001b[0m [j \u001b[39mfor\u001b[39;00m j \u001b[39min\u001b[39;00m i \u001b[39mfor\u001b[39;00m i \u001b[39min\u001b[39;00m a ]\n",
      "\u001b[1;31mTypeError\u001b[0m: 'int' object is not iterable"
     ]
    }
   ],
   "source": [
    "# 2차원 리스트의 원소를 한번에 출력-실패\n",
    "[j for j in i for i in a ]"
   ]
  },
  {
   "attachments": {},
   "cell_type": "markdown",
   "metadata": {},
   "source": [
    "### __집합__"
   ]
  },
  {
   "cell_type": "markdown",
   "metadata": {},
   "source": [
    "- __중복원소 제거__"
   ]
  },
  {
   "cell_type": "code",
   "execution_count": 21,
   "metadata": {},
   "outputs": [
    {
     "name": "stdout",
     "output_type": "stream",
     "text": [
      "{'b', 'c', 'a'}\n",
      "{'b', 'c', 'a'}\n",
      "{'b', 'c', 'a'}\n"
     ]
    }
   ],
   "source": [
    "s1 = set('abcc')\n",
    "s2 = set(['a','b','b','c'])\n",
    "s3 = set(('a','b','b','c'))\n",
    "print(s1,s2,s3,sep='\\n')\n",
    "\n",
    "#반복문에 조합 직접 접근하면 메모리 초과 나던거 해결 가능 (boj1062_가르침)"
   ]
  },
  {
   "cell_type": "markdown",
   "metadata": {},
   "source": [
    "합집합"
   ]
  },
  {
   "cell_type": "code",
   "execution_count": 18,
   "metadata": {},
   "outputs": [
    {
     "name": "stdout",
     "output_type": "stream",
     "text": [
      "{1, 2, 3, 4, 5}\n",
      "{1, 2, 3, 4, 5}\n"
     ]
    }
   ],
   "source": [
    "# |\n",
    "set_a = {1, 2, 3}\n",
    "set_b = {3, 4, 5}\n",
    "union_set = set_a | set_b\n",
    "print(union_set)\n",
    "\n",
    "# setA.union(setB)\n",
    "set_a = {1, 2, 3}\n",
    "set_b = {3, 4, 5}\n",
    "union_set = set_a.union(set_b)\n",
    "print(union_set)"
   ]
  },
  {
   "cell_type": "markdown",
   "metadata": {},
   "source": [
    "리스트의 모든 집합요소 합하기"
   ]
  },
  {
   "cell_type": "code",
   "execution_count": 19,
   "metadata": {},
   "outputs": [
    {
     "data": {
      "text/plain": [
       "{1, 2, 3, 4, 5}"
      ]
     },
     "execution_count": 19,
     "metadata": {},
     "output_type": "execute_result"
    }
   ],
   "source": [
    "# 리스트의 모든 집합 요소 구하기\n",
    "l = [{1,2}, {2,3}, {3,4}, {4,5}]\n",
    "res = set().union(*l)\n",
    "res"
   ]
  },
  {
   "cell_type": "code",
   "execution_count": 15,
   "metadata": {},
   "outputs": [
    {
     "ename": "TypeError",
     "evalue": "unsupported operand type(s) for +: 'set' and 'set'",
     "output_type": "error",
     "traceback": [
      "\u001b[1;31m---------------------------------------------------------------------------\u001b[0m",
      "\u001b[1;31mTypeError\u001b[0m                                 Traceback (most recent call last)",
      "\u001b[1;32mc:\\Users\\KangIW\\git_j500\\Algorithm\\python_st\\python3_method.ipynb Cell 48\u001b[0m in \u001b[0;36m<cell line: 1>\u001b[1;34m()\u001b[0m\n\u001b[1;32m----> <a href='vscode-notebook-cell:/c%3A/Users/KangIW/git_j500/Algorithm/python_st/python3_method.ipynb#Y224sZmlsZQ%3D%3D?line=0'>1</a>\u001b[0m {\u001b[39m1\u001b[39;49m,\u001b[39m2\u001b[39;49m} \u001b[39m+\u001b[39;49m {\u001b[39m2\u001b[39;49m,\u001b[39m3\u001b[39;49m}\n",
      "\u001b[1;31mTypeError\u001b[0m: unsupported operand type(s) for +: 'set' and 'set'"
     ]
    }
   ],
   "source": [
    "{1,2} + {2,3}"
   ]
  },
  {
   "attachments": {},
   "cell_type": "markdown",
   "metadata": {},
   "source": [
    "---"
   ]
  },
  {
   "attachments": {},
   "cell_type": "markdown",
   "metadata": {},
   "source": [
    "- 2차원 리스트 슬라이싱 주의 <br>"
   ]
  },
  {
   "cell_type": "code",
   "execution_count": 14,
   "metadata": {},
   "outputs": [
    {
     "name": "stdout",
     "output_type": "stream",
     "text": [
      "[5, 6, 7, 8]\n",
      "[5, 6, 7, 8]\n",
      "[5, 6, 7, 8]\n"
     ]
    }
   ],
   "source": [
    "# 열을 고정하고 행을 슬라이싱하는건 안됨\n",
    "\n",
    "a = [[1, 2, 3, 4], [5, 6, 7, 8], [9, 10, 11, 12],[13, 14, 15, 16]]\n",
    "\n",
    "print(a[1][:4])\n",
    "print(a[:4][1])   #[2, 6, 10, 14]가 반환되는걸 기대 했으나 안된다. \n",
    "print(a[:4][1])   #앞에 슬라이스와 관계 없이 print(a[1])와 같은 결과 "
   ]
  },
  {
   "cell_type": "code",
   "execution_count": 15,
   "metadata": {},
   "outputs": [
    {
     "data": {
      "text/plain": [
       "[2, 6, 10, 14]"
      ]
     },
     "execution_count": 15,
     "metadata": {},
     "output_type": "execute_result"
    }
   ],
   "source": [
    "[a[i][1] for i in range(len(a))]    # 대신 리스트 표현식 사용"
   ]
  },
  {
   "attachments": {},
   "cell_type": "markdown",
   "metadata": {},
   "source": [
    "- 차례로 더한 리스트 만들기 <br>\n",
    "arr[0], arr[0]+arr[1], arr[0]+arr[1]+arr[2], ...\n"
   ]
  },
  {
   "cell_type": "code",
   "execution_count": 19,
   "metadata": {},
   "outputs": [
    {
     "data": {
      "text/plain": [
       "[5, 6, 9, 14, 24, 31, 35, 44, 46, 54]"
      ]
     },
     "execution_count": 19,
     "metadata": {},
     "output_type": "execute_result"
    }
   ],
   "source": [
    "arr = [5, 1, 3, 5, 10, 7, 4, 9, 2, 8]\n",
    "\n",
    "l = [0 for _ in range(len(arr))] # 0으로 채운 리스트(공간 만들고 값만 바꾸려고)\n",
    "for i in range(len(arr)):\n",
    "    l[i] = l[i-1]+arr[i]    #처음에 l[-1]+arr[0]이 되서 논리적으론 안맞지만 l이 0으로 초기화한 리스트 의도되로 나옴\n",
    "l"
   ]
  },
  {
   "cell_type": "code",
   "execution_count": 21,
   "metadata": {},
   "outputs": [
    {
     "data": {
      "text/plain": [
       "[0, 5, 6, 9, 14, 24, 31, 35, 44, 46, 54]"
      ]
     },
     "execution_count": 21,
     "metadata": {},
     "output_type": "execute_result"
    }
   ],
   "source": [
    "# 방법2\n",
    "arr = [5, 1, 3, 5, 10, 7, 4, 9, 2, 8]\n",
    "\n",
    "l = [0]\n",
    "for i in range(len(arr)):\n",
    "    l.append(l[-1] + arr[i])\n",
    "l"
   ]
  },
  {
   "cell_type": "code",
   "execution_count": 22,
   "metadata": {},
   "outputs": [
    {
     "data": {
      "text/plain": [
       "[5, 6, 9, 14, 24, 31, 35, 44, 46, 54]"
      ]
     },
     "execution_count": 22,
     "metadata": {},
     "output_type": "execute_result"
    }
   ],
   "source": [
    "# 방법3. +많이해서 비효율적일듯\n",
    "arr = [5, 1, 3, 5, 10, 7, 4, 9, 2, 8]\n",
    "\n",
    "l = [sum(arr[:i]) for i in range(1,len(arr)+1)] \n",
    "l"
   ]
  },
  {
   "attachments": {},
   "cell_type": "markdown",
   "metadata": {},
   "source": [
    "- 2차원 리스트에서 3번째 원소의 합 구하기 <br>\n",
    "ex) 간선 리스트에서 가중치의 합 구하기"
   ]
  },
  {
   "cell_type": "code",
   "execution_count": 24,
   "metadata": {},
   "outputs": [
    {
     "data": {
      "text/plain": [
       "15"
      ]
     },
     "execution_count": 24,
     "metadata": {},
     "output_type": "execute_result"
    }
   ],
   "source": [
    "arr = [[1,2,3],[2,3,4],[4,5,6]]\n",
    "sum(arr[:][2])  #실패 - 행 슬라이싱이 안되서 sum(a[2])와 같은 결과가 나옴"
   ]
  },
  {
   "cell_type": "code",
   "execution_count": 25,
   "metadata": {},
   "outputs": [
    {
     "data": {
      "text/plain": [
       "13"
      ]
     },
     "execution_count": 25,
     "metadata": {},
     "output_type": "execute_result"
    }
   ],
   "source": [
    "sum([arr[i][2] for i in range(len(arr))])    # 대신 리스트 표현식 사용"
   ]
  },
  {
   "cell_type": "markdown",
   "metadata": {},
   "source": [
    "### __딕셔너리__"
   ]
  },
  {
   "cell_type": "code",
   "execution_count": null,
   "metadata": {},
   "outputs": [],
   "source": [
    "dict1 = {\n",
    "    '고양1': 1,\n",
    "    '고양2': 2,\n",
    "    '고양3': 3,\n",
    "    '고양4': 4\n",
    "}"
   ]
  },
  {
   "attachments": {},
   "cell_type": "markdown",
   "metadata": {},
   "source": [
    "## __문자 & 문자열__"
   ]
  },
  {
   "attachments": {},
   "cell_type": "markdown",
   "metadata": {},
   "source": [
    "- 문자열 뒤집기"
   ]
  },
  {
   "cell_type": "code",
   "execution_count": 17,
   "metadata": {},
   "outputs": [
    {
     "data": {
      "text/plain": [
       "'ccbbaa'"
      ]
     },
     "execution_count": 17,
     "metadata": {},
     "output_type": "execute_result"
    }
   ],
   "source": [
    "\"aabbcc\"[::-1]  #슬라이싱"
   ]
  },
  {
   "cell_type": "markdown",
   "metadata": {},
   "source": [
    "__ord()__  \n",
    ": 주어진 문자의 유니코드 코드 포인트를 나타내는 정수를 반환"
   ]
  },
  {
   "cell_type": "code",
   "execution_count": 1,
   "metadata": {},
   "outputs": [
    {
     "data": {
      "text/plain": [
       "97"
      ]
     },
     "execution_count": 1,
     "metadata": {},
     "output_type": "execute_result"
    }
   ],
   "source": [
    "ord('a')"
   ]
  },
  {
   "cell_type": "code",
   "execution_count": 4,
   "metadata": {},
   "outputs": [
    {
     "data": {
      "text/plain": [
       "(2, 7)"
      ]
     },
     "execution_count": 4,
     "metadata": {},
     "output_type": "execute_result"
    }
   ],
   "source": [
    "# 활용 - 체스판 좌표(문자,숫자 조합)을 2차원 리스트로 나타낼 때\n",
    "def intcord(cord):\n",
    "    col = int(ord(cord[0])) - int(ord('A')) + 1 \n",
    "    row = int(cord[1])\n",
    "    return col, row\n",
    "\n",
    "cord1 = 'B7'\n",
    "intcord(cord1)"
   ]
  },
  {
   "cell_type": "code",
   "execution_count": 6,
   "metadata": {},
   "outputs": [
    {
     "data": {
      "text/plain": [
       "(True, False)"
      ]
     },
     "execution_count": 6,
     "metadata": {},
     "output_type": "execute_result"
    }
   ],
   "source": [
    "# isalpha() : 문자가 알파벳인지 확인\n",
    "\n",
    "'k'.isalpha()\n",
    "'11'.isalpha()"
   ]
  },
  {
   "attachments": {},
   "cell_type": "markdown",
   "metadata": {},
   "source": [
    "### __문자열 서식 지정자__"
   ]
  },
  {
   "cell_type": "code",
   "execution_count": 2,
   "metadata": {},
   "outputs": [
    {
     "name": "stdout",
     "output_type": "stream",
     "text": [
      "kiwi 331\n",
      "kiwi 331\n"
     ]
    }
   ],
   "source": [
    "print(\"kiwi %s\" % \"331\")\n",
    "print(\"kiwi %d\" % 331)"
   ]
  },
  {
   "cell_type": "code",
   "execution_count": 4,
   "metadata": {},
   "outputs": [
    {
     "data": {
      "text/plain": [
       "'kiwi tree 331'"
      ]
     },
     "execution_count": 4,
     "metadata": {},
     "output_type": "execute_result"
    }
   ],
   "source": [
    "\"kiwi %s %d\" % (\"tree\", 331)"
   ]
  },
  {
   "cell_type": "code",
   "execution_count": 11,
   "metadata": {},
   "outputs": [
    {
     "data": {
      "text/plain": [
       "'kiwi tree 331'"
      ]
     },
     "execution_count": 11,
     "metadata": {},
     "output_type": "execute_result"
    }
   ],
   "source": [
    "# 투플O 리스트는 안됨\n",
    "tu = (\"tree\", 331)\n",
    "li = [\"tree\", 331]\n",
    "\n",
    "\"kiwi %s %d\" % tu\n",
    "#\"kiwi %s %d\" % li # TypeError"
   ]
  },
  {
   "attachments": {},
   "cell_type": "markdown",
   "metadata": {},
   "source": [
    "- 정수출력할 때 0채우기"
   ]
  },
  {
   "cell_type": "code",
   "execution_count": 5,
   "metadata": {},
   "outputs": [
    {
     "data": {
      "text/plain": [
       "'033'"
      ]
     },
     "execution_count": 5,
     "metadata": {},
     "output_type": "execute_result"
    }
   ],
   "source": [
    "# \"%0개수\" % 정수 \n",
    "'%03d' % 33"
   ]
  },
  {
   "cell_type": "code",
   "execution_count": 9,
   "metadata": {},
   "outputs": [
    {
     "data": {
      "text/plain": [
       "str"
      ]
     },
     "execution_count": 9,
     "metadata": {},
     "output_type": "execute_result"
    }
   ],
   "source": [
    "# 문자열 매소드 zfill()\n",
    "type(\"33\".zfill(3))"
   ]
  },
  {
   "cell_type": "markdown",
   "metadata": {},
   "source": [
    "split(), rstrip()"
   ]
  },
  {
   "cell_type": "code",
   "execution_count": null,
   "metadata": {},
   "outputs": [
    {
     "data": {
      "text/plain": [
       "['hello', 'world', '^^7']"
      ]
     },
     "metadata": {},
     "output_type": "display_data"
    }
   ],
   "source": [
    "# split(): 문자열을 공백 기준으로 분리\n",
    "\"hello world ^^7\".split()"
   ]
  },
  {
   "cell_type": "code",
   "execution_count": 7,
   "metadata": {},
   "outputs": [
    {
     "data": {
      "text/plain": [
       "'hello world'"
      ]
     },
     "execution_count": 7,
     "metadata": {},
     "output_type": "execute_result"
    }
   ],
   "source": [
    "# rstrip(): 문자열의 오른쪽 끝에 있는 불필요한 공백이나 줄바꿈 문자를 '모두' 제거\n",
    "\"hello world    \\n  \\t\".rstrip()"
   ]
  },
  {
   "cell_type": "code",
   "execution_count": 14,
   "metadata": {},
   "outputs": [
    {
     "name": "stdout",
     "output_type": "stream",
     "text": [
      "['hello', 'world'] ['hello', 'world']\n"
     ]
    }
   ],
   "source": [
    "# split()은 자동으로 공백&줄바꿈을 지워주니까 rstrip()과 같이 쓸 필요는 없음\n",
    "str1 = \"hello world  \\n  \"\n",
    "\n",
    "print(\n",
    "    str1.split(),\n",
    "    str1.rstrip().split(),  # rstrip()집어 넣어도 똑같음\n",
    "    #str1.split().rstrip()  # AttributeError(.split()은 리스트를 반환함)         \n",
    ")\n",
    "\n"
   ]
  },
  {
   "attachments": {},
   "cell_type": "markdown",
   "metadata": {},
   "source": [
    "### __람다표현식__"
   ]
  },
  {
   "attachments": {},
   "cell_type": "markdown",
   "metadata": {},
   "source": [
    "- 변수 = lambda 매개변수(들): 식"
   ]
  },
  {
   "cell_type": "code",
   "execution_count": 12,
   "metadata": {},
   "outputs": [
    {
     "data": {
      "text/plain": [
       "7"
      ]
     },
     "execution_count": 12,
     "metadata": {},
     "output_type": "execute_result"
    }
   ],
   "source": [
    "lam1 = lambda a,b: a+b\n",
    "lam1(3,4)"
   ]
  },
  {
   "attachments": {},
   "cell_type": "markdown",
   "metadata": {},
   "source": [
    "- 리스트를 2가지 조건(key)로 정렬"
   ]
  },
  {
   "cell_type": "code",
   "execution_count": 14,
   "metadata": {},
   "outputs": [
    {
     "data": {
      "text/plain": [
       "['i',\n",
       " 'im',\n",
       " 'it',\n",
       " 'no',\n",
       " 'but',\n",
       " 'more',\n",
       " 'wait',\n",
       " 'wont',\n",
       " 'yours',\n",
       " 'cannot',\n",
       " 'hesitate']"
      ]
     },
     "execution_count": 14,
     "metadata": {},
     "output_type": "execute_result"
    }
   ],
   "source": [
    "l = ['i', 'im', 'it', 'no', 'but', 'more', 'wait', 'wont', 'yours', 'cannot', 'hesitate']\n",
    "sorted(l, key=lambda x : (len(x),x))    # 길이, 사전순으로 정렬, 키에 변수가 그대로 들어가면 사전 순\n",
    "\n",
    "#boj1181"
   ]
  },
  {
   "cell_type": "code",
   "execution_count": 28,
   "metadata": {},
   "outputs": [
    {
     "name": "stdout",
     "output_type": "stream",
     "text": [
      "[7, 9, 11, 13]\n"
     ]
    }
   ],
   "source": [
    "# 두개의 리스트의 n번째 원소끼리 각각 더한 새로운 리스트 만들기\n",
    "list1 = [1,2,3,4]\n",
    "list2 = [6,7,8,9]\n",
    "\n",
    "res = map(lambda a,b: a+b, list1, list2)\n",
    "print(list(res))"
   ]
  },
  {
   "attachments": {},
   "cell_type": "markdown",
   "metadata": {},
   "source": [
    "### __math__"
   ]
  },
  {
   "attachments": {},
   "cell_type": "markdown",
   "metadata": {},
   "source": [
    "__-천장함수 & 바닥함수__"
   ]
  },
  {
   "cell_type": "code",
   "execution_count": null,
   "metadata": {},
   "outputs": [
    {
     "name": "stdout",
     "output_type": "stream",
     "text": [
      "4 3\n"
     ]
    }
   ],
   "source": [
    "import math\n",
    "\n",
    "print(math.ceil(3.3), math.floor(3.3))"
   ]
  },
  {
   "cell_type": "markdown",
   "metadata": {},
   "source": [
    "__최대 공약수__"
   ]
  },
  {
   "cell_type": "code",
   "execution_count": 3,
   "metadata": {},
   "outputs": [
    {
     "data": {
      "text/plain": [
       "6"
      ]
     },
     "execution_count": 3,
     "metadata": {},
     "output_type": "execute_result"
    }
   ],
   "source": [
    "import math\n",
    "math.gcd(30, 114)"
   ]
  },
  {
   "cell_type": "code",
   "execution_count": null,
   "metadata": {},
   "outputs": [
    {
     "data": {
      "text/plain": [
       "2.0"
      ]
     },
     "execution_count": 1,
     "metadata": {},
     "output_type": "execute_result"
    }
   ],
   "source": [
    "import math\n",
    "math.sqrt(4)"
   ]
  },
  {
   "cell_type": "code",
   "execution_count": null,
   "metadata": {},
   "outputs": [],
   "source": [
    "#sqrt() 응용 - n이 제곱수인지 확인\n",
    "def is_perfect_square(n):\n",
    "    if n < 0:\n",
    "        return False  # 음수는 제곱수가 아님\n",
    "    root = math.isqrt(n)  # 제곱근의 정수부\n",
    "    return root * root == n  # 정수 부분의 제곱이 입력된 숫자와 같으면 True를 반환"
   ]
  },
  {
   "cell_type": "code",
   "execution_count": 2,
   "metadata": {},
   "outputs": [
    {
     "data": {
      "text/plain": [
       "2"
      ]
     },
     "execution_count": 2,
     "metadata": {},
     "output_type": "execute_result"
    }
   ],
   "source": [
    "import math\n",
    "\n",
    "math.isqrt(7) #정수부"
   ]
  },
  {
   "cell_type": "markdown",
   "metadata": {},
   "source": [
    "### __itertools: 순열, 조합__"
   ]
  },
  {
   "cell_type": "code",
   "execution_count": 7,
   "metadata": {},
   "outputs": [
    {
     "data": {
      "text/plain": [
       "[(1, 4),\n",
       " (1, 8),\n",
       " (1, 9),\n",
       " (1, 13),\n",
       " (4, 8),\n",
       " (4, 9),\n",
       " (4, 13),\n",
       " (8, 9),\n",
       " (8, 13),\n",
       " (9, 13)]"
      ]
     },
     "execution_count": 7,
     "metadata": {},
     "output_type": "execute_result"
    }
   ],
   "source": [
    "from itertools import combinations as combi\n",
    "\n",
    "l = [1, 4, 8, 9, 13]\n",
    "list(combi(l, 2)) #각 조합의 자료형은 튜플. list()로 바꿔줘야 보이게 출력됨"
   ]
  },
  {
   "cell_type": "code",
   "execution_count": 14,
   "metadata": {},
   "outputs": [
    {
     "data": {
      "text/plain": [
       "[(1,), (2,)]"
      ]
     },
     "execution_count": 14,
     "metadata": {},
     "output_type": "execute_result"
    }
   ],
   "source": [
    "list(combi([1,2], 1))\n"
   ]
  },
  {
   "cell_type": "markdown",
   "metadata": {},
   "source": [
    "### __collections__"
   ]
  },
  {
   "cell_type": "code",
   "execution_count": 9,
   "metadata": {},
   "outputs": [
    {
     "name": "stdout",
     "output_type": "stream",
     "text": [
      "deque([2, 3, 4])\n"
     ]
    }
   ],
   "source": [
    "# 큐\n",
    "from collections import deque\n",
    "q = deque()\n",
    "\n",
    "q.append(1)\n",
    "q.append(2)\n",
    "q.append(3)\n",
    "q.append(4)\n",
    "q.popleft()\n",
    "\n",
    "print(q) \n",
    "# rq = deque(reversed(q))\n",
    "# print(rq)"
   ]
  },
  {
   "cell_type": "markdown",
   "metadata": {},
   "source": [
    "__bisect: 이진탐색__"
   ]
  },
  {
   "cell_type": "code",
   "execution_count": 21,
   "metadata": {},
   "outputs": [
    {
     "name": "stdout",
     "output_type": "stream",
     "text": [
      "4\n",
      "6\n"
     ]
    }
   ],
   "source": [
    "# 이분탐색-직접구현(정렬된 리스트에서 새로운 정수n이 추가될 인덱스)\n",
    "#l = list(range(10))\n",
    "l = [1,2,3,4,5,5,5,6,7,8]\n",
    "n = 5\n",
    "s,e = 0, len(l)-1\n",
    "res = None\n",
    "\n",
    "while s <= e:\n",
    "    mid = (s+e) // 2\n",
    "    \n",
    "    # l[mid]가 n보다크다 -> 왼쪽범위 탐색\n",
    "    if l[mid] >= n:\n",
    "        res = mid\n",
    "        e = mid - 1\n",
    "        \n",
    "    # l[mid]가 n보다 작다 -> 오른쪽범위 탐색\n",
    "    else:\n",
    "        s = mid + 1\n",
    "       \n",
    "print(res)# 끝까지 왼쪽으로 탐색하니까 bisect_left와 동일한 결과\n",
    "\n",
    "# l.insert(res,n) #(인덱스, 삽입숫자)\n",
    "\n",
    "s,e = 0, len(l)-1\n",
    "res = None\n",
    "while s<=e:\n",
    "    mid = (s+e)//2\n",
    "    \n",
    "    if l[mid] > n:\n",
    "        e = mid -1\n",
    "        \n",
    "    else:\n",
    "        res = mid\n",
    "        s = mid +1\n",
    "\n",
    "print(res)# bisect_right랑은 다른 결과"
   ]
  },
  {
   "cell_type": "code",
   "execution_count": 23,
   "metadata": {},
   "outputs": [
    {
     "name": "stdout",
     "output_type": "stream",
     "text": [
      "4\n",
      "7\n",
      "7\n"
     ]
    }
   ],
   "source": [
    "# 이분탐색-bisect라이브러리 사용\n",
    "from bisect import bisect_left, bisect_right, bisect\n",
    "\n",
    "l = [1,2,3,4,5,5,5,6,7,8]\n",
    "n = 5\n",
    "\n",
    "print(bisect_left(l, n)) # 리스트에서 n를 삽입할 위치를 반환. n과 동일한 값이 여러 개 있으면 가장 왼쪽의 위치를 반환\n",
    "print(bisect_right(l, n)) # n과 동일한 값이 있으면 그 다음 자리 반환 (리스트의 6자리)\n",
    "print(bisect(l, n)) # bisect_right와 동일"
   ]
  },
  {
   "cell_type": "code",
   "execution_count": 32,
   "metadata": {},
   "outputs": [
    {
     "data": {
      "text/plain": [
       "[1, 2, 3, 4, 5, 5, 5, 5, 6, 7, 8]"
      ]
     },
     "execution_count": 32,
     "metadata": {},
     "output_type": "execute_result"
    }
   ],
   "source": [
    "# insort 삽입까지 같이\n",
    "from bisect import insort\n",
    "\n",
    "l = [1,2,3,4,5,5,5,6,7,8]\n",
    "insort(l, 5)\n",
    "l"
   ]
  },
  {
   "cell_type": "code",
   "execution_count": 28,
   "metadata": {},
   "outputs": [
    {
     "name": "stdout",
     "output_type": "stream",
     "text": [
      "5\n",
      "3\n"
     ]
    }
   ],
   "source": [
    "#응용-특정 범위에 속하는 데이터 수\n",
    "def range_count(arr,l,r):\n",
    "    return bisect_right(arr, r) - bisect_left(arr, l)\n",
    "\n",
    "arr1 = list(range(10))\n",
    "print(range_count(arr1,3,7)) #3,4,5,6,7\n",
    "\n",
    "arr2 = [1,3,3,3,5]\n",
    "print(range_count(arr2,3,3)) "
   ]
  },
  {
   "cell_type": "markdown",
   "metadata": {},
   "source": [
    "## __기타__"
   ]
  },
  {
   "cell_type": "code",
   "execution_count": 40,
   "metadata": {},
   "outputs": [
    {
     "name": "stdout",
     "output_type": "stream",
     "text": [
      "HELLO WORLD\n",
      "hello world\n",
      "HELLO world\n"
     ]
    }
   ],
   "source": [
    "# 소문자, 대문자 전환\n",
    "print(\"hello world\".upper())\n",
    "print(\"HELLO WORLD\".lower())\n",
    "print(\"hello WORLD\".swapcase())"
   ]
  },
  {
   "cell_type": "markdown",
   "metadata": {},
   "source": [
    "소수 판별"
   ]
  },
  {
   "cell_type": "code",
   "execution_count": 12,
   "metadata": {},
   "outputs": [
    {
     "name": "stdout",
     "output_type": "stream",
     "text": [
      "False True True False True False True False False False "
     ]
    }
   ],
   "source": [
    "def isprime(n):\n",
    "    if n == 1:\n",
    "        return False\n",
    "    for i in range(2, int(n**1/2)+1): # n의 제곱근 까지만 확인해도 소수인지 판별 가능(n=2이면 for문 안돌아감)\n",
    "        if n % i == 0:\n",
    "            return False\n",
    "    return True\n",
    "\n",
    "for i in range(1,11):\n",
    "    print(isprime(i), end=' ')"
   ]
  },
  {
   "cell_type": "markdown",
   "metadata": {},
   "source": [
    "소인수 분해"
   ]
  },
  {
   "cell_type": "code",
   "execution_count": 6,
   "metadata": {},
   "outputs": [
    {
     "data": {
      "text/plain": [
       "[2, 2, 2]"
      ]
     },
     "execution_count": 6,
     "metadata": {},
     "output_type": "execute_result"
    }
   ],
   "source": [
    "def prime_factors(n):\n",
    "    factors = []\n",
    "    i = 2\n",
    "    while i <= n:\n",
    "        if n % i == 0:\n",
    "            factors.append(i)\n",
    "            n = n // i\n",
    "        else:\n",
    "            i = i + 1\n",
    "    return factors\n",
    "\n",
    "\n",
    "prime_factors(8)"
   ]
  },
  {
   "cell_type": "code",
   "execution_count": 20,
   "metadata": {},
   "outputs": [
    {
     "data": {
      "text/plain": [
       "True"
      ]
     },
     "execution_count": 20,
     "metadata": {},
     "output_type": "execute_result"
    }
   ],
   "source": [
    "# 실수n이 정수인지 확인\n",
    "f = 3.0\n",
    "float(int(f)) == f"
   ]
  },
  {
   "cell_type": "code",
   "execution_count": 17,
   "metadata": {},
   "outputs": [
    {
     "data": {
      "text/plain": [
       "False"
      ]
     },
     "execution_count": 17,
     "metadata": {},
     "output_type": "execute_result"
    }
   ],
   "source": [
    "# 자료형 확인. 정수.0은 실수\n",
    "isinstance(10.0, int)"
   ]
  },
  {
   "cell_type": "code",
   "execution_count": 22,
   "metadata": {},
   "outputs": [
    {
     "data": {
      "text/plain": [
       "7"
      ]
     },
     "execution_count": 22,
     "metadata": {},
     "output_type": "execute_result"
    }
   ],
   "source": [
    "# 이차원 리스트의 최대값\n",
    "l=[[1,2,3],[2,3,4],[5,6,7]]\n",
    "\n",
    "max(map(max, l))"
   ]
  },
  {
   "cell_type": "code",
   "execution_count": null,
   "metadata": {},
   "outputs": [],
   "source": []
  }
 ],
 "metadata": {
  "kernelspec": {
   "display_name": "Python 3.10.4 64-bit",
   "language": "python",
   "name": "python3"
  },
  "language_info": {
   "codemirror_mode": {
    "name": "ipython",
    "version": 3
   },
   "file_extension": ".py",
   "mimetype": "text/x-python",
   "name": "python",
   "nbconvert_exporter": "python",
   "pygments_lexer": "ipython3",
   "version": "3.10.4"
  },
  "orig_nbformat": 4,
  "vscode": {
   "interpreter": {
    "hash": "b7788da725108422b1a71573c9798a39d002e25e78b3bca382d6bc4f934e063b"
   }
  }
 },
 "nbformat": 4,
 "nbformat_minor": 2
}
