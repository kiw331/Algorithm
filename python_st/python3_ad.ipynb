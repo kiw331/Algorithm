{
 "cells": [
  {
   "attachments": {},
   "cell_type": "markdown",
   "metadata": {},
   "source": [
    "stdin.readline() = input()"
   ]
  },
  {
   "cell_type": "code",
   "execution_count": 2,
   "metadata": {},
   "outputs": [
    {
     "name": "stdout",
     "output_type": "stream",
     "text": [
      "a <class 'str'>\n"
     ]
    }
   ],
   "source": [
    "from sys import stdin\n",
    "\n",
    "a = input()\n",
    "#b = sys.stdin.readline()\n",
    "print(a,type(a))"
   ]
  },
  {
   "cell_type": "code",
   "execution_count": 20,
   "metadata": {},
   "outputs": [
    {
     "data": {
      "text/plain": [
       "True"
      ]
     },
     "execution_count": 20,
     "metadata": {},
     "output_type": "execute_result"
    }
   ],
   "source": [
    "a = 1\n",
    "b = a\n",
    "c = 1\n",
    "\n",
    "a is c"
   ]
  },
  {
   "cell_type": "code",
   "execution_count": 19,
   "metadata": {},
   "outputs": [
    {
     "name": "stdout",
     "output_type": "stream",
     "text": [
      "11 / 12\n",
      "11 12\n"
     ]
    }
   ],
   "source": [
    "a, b = map(int, input().split('/'))\n",
    "print(a,b)\n",
    "\n",
    "# x = input().split()    # input().split()의 결과는 문자열 리스트\n",
    "# m = map(int, x)        # 리스트의 요소를 int로 변환, 결과는 맵 객체\n",
    "# a, b = m               # 맵 객체는 변수 여러 개에 저장할 수 있음"
   ]
  },
  {
   "cell_type": "code",
   "execution_count": 36,
   "metadata": {},
   "outputs": [
    {
     "name": "stdout",
     "output_type": "stream",
     "text": [
      "a id 140705857454448\n",
      "a is b\n",
      "2531882298416\n",
      "140705857454448\n"
     ]
    }
   ],
   "source": [
    "a = 256\n",
    "b = 256\n",
    "print('a id',id(a))\n",
    "if a is b:\n",
    "    print('a is b')\n",
    "else:\n",
    "    print('a is not b')\n",
    "    \n",
    "a +=1\n",
    "print(id(a))\n",
    "print(id(b))"
   ]
  },
  {
   "cell_type": "code",
   "execution_count": 16,
   "metadata": {},
   "outputs": [
    {
     "name": "stdout",
     "output_type": "stream",
     "text": [
      "2044244174992\n",
      "140706623299984\n"
     ]
    },
    {
     "data": {
      "text/plain": [
       "140706623300016"
      ]
     },
     "execution_count": 16,
     "metadata": {},
     "output_type": "execute_result"
    }
   ],
   "source": [
    "print(id(1000))\n",
    "print(id(1))\n",
    "id(2)"
   ]
  },
  {
   "cell_type": "markdown",
   "metadata": {},
   "source": [
    "__res 갱신__  \n",
    "조건문 vs max()/min()  \n",
    "\n",
    "결과: 조건문이 더 빠름"
   ]
  },
  {
   "cell_type": "code",
   "execution_count": 9,
   "metadata": {},
   "outputs": [
    {
     "name": "stdout",
     "output_type": "stream",
     "text": [
      "조건문사용: 1.8803436756134033s\n"
     ]
    }
   ],
   "source": [
    "import time\n",
    "import random\n",
    "\n",
    "s = time.time()  # 시작 시간 기록\n",
    "\n",
    "for _ in range(10**7):\n",
    "\n",
    "    res = 100\n",
    "    tmp = random.uniform(0, 200)\n",
    "\n",
    "    if tmp > res:\n",
    "        res = tmp\n",
    "        \n",
    "e = time.time()  # 종료 시간 기록`\n",
    "print(f'조건문사용: {e-s}s')"
   ]
  },
  {
   "cell_type": "code",
   "execution_count": 10,
   "metadata": {},
   "outputs": [
    {
     "name": "stdout",
     "output_type": "stream",
     "text": [
      "max()사용: 2.6612391471862793s\n"
     ]
    }
   ],
   "source": [
    "import time\n",
    "import random\n",
    "\n",
    "s = time.time()  # 시작 시간 기록\n",
    "for _ in range(10**7):\n",
    "\n",
    "    res = 100\n",
    "    tmp = random.uniform(0, 200)\n",
    "        \n",
    "    res = max(res, tmp)\n",
    "\n",
    "e = time.time()  # 종료 시간 기록`\n",
    "print(f'max()사용: {e-s}s')"
   ]
  },
  {
   "cell_type": "code",
   "execution_count": null,
   "metadata": {},
   "outputs": [],
   "source": []
  }
 ],
 "metadata": {
  "kernelspec": {
   "display_name": "Python 3.7.4 ('base')",
   "language": "python",
   "name": "python3"
  },
  "language_info": {
   "codemirror_mode": {
    "name": "ipython",
    "version": 3
   },
   "file_extension": ".py",
   "mimetype": "text/x-python",
   "name": "python",
   "nbconvert_exporter": "python",
   "pygments_lexer": "ipython3",
   "version": "3.10.4"
  },
  "vscode": {
   "interpreter": {
    "hash": "2e23fecce04ce07c0bece0b43bfe734bbad1ee3e70c94bc8c49b0e86956a7b26"
   }
  }
 },
 "nbformat": 4,
 "nbformat_minor": 2
}
