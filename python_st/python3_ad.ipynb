{
 "cells": [
  {
   "cell_type": "markdown",
   "metadata": {},
   "source": [
    "stdin.readline() = input()"
   ]
  },
  {
   "cell_type": "code",
   "execution_count": 2,
   "metadata": {},
   "outputs": [
    {
     "name": "stdout",
     "output_type": "stream",
     "text": [
      "a <class 'str'>\n"
     ]
    }
   ],
   "source": [
    "from sys import stdin\n",
    "\n",
    "a = input()\n",
    "#b = sys.stdin.readline()\n",
    "print(a,type(a))"
   ]
  },
  {
   "cell_type": "code",
   "execution_count": 20,
   "metadata": {},
   "outputs": [
    {
     "data": {
      "text/plain": [
       "True"
      ]
     },
     "execution_count": 20,
     "metadata": {},
     "output_type": "execute_result"
    }
   ],
   "source": [
    "a = 1\n",
    "b = a\n",
    "c = 1\n",
    "\n",
    "a is c"
   ]
  },
  {
   "cell_type": "code",
   "execution_count": 19,
   "metadata": {},
   "outputs": [
    {
     "name": "stdout",
     "output_type": "stream",
     "text": [
      "11 / 12\n",
      "11 12\n"
     ]
    }
   ],
   "source": [
    "a, b = map(int, input().split('/'))\n",
    "print(a,b)\n",
    "\n",
    "# x = input().split()    # input().split()의 결과는 문자열 리스트\n",
    "# m = map(int, x)        # 리스트의 요소를 int로 변환, 결과는 맵 객체\n",
    "# a, b = m               # 맵 객체는 변수 여러 개에 저장할 수 있음"
   ]
  },
  {
   "cell_type": "code",
   "execution_count": 36,
   "metadata": {},
   "outputs": [
    {
     "name": "stdout",
     "output_type": "stream",
     "text": [
      "a id 140705857454448\n",
      "a is b\n",
      "2531882298416\n",
      "140705857454448\n"
     ]
    }
   ],
   "source": [
    "a = 256\n",
    "b = 256\n",
    "print('a id',id(a))\n",
    "if a is b:\n",
    "    print('a is b')\n",
    "else:\n",
    "    print('a is not b')\n",
    "    \n",
    "a +=1\n",
    "print(id(a))\n",
    "print(id(b))"
   ]
  },
  {
   "cell_type": "code",
   "execution_count": 16,
   "metadata": {},
   "outputs": [
    {
     "name": "stdout",
     "output_type": "stream",
     "text": [
      "2044244174992\n",
      "140706623299984\n"
     ]
    },
    {
     "data": {
      "text/plain": [
       "140706623300016"
      ]
     },
     "execution_count": 16,
     "metadata": {},
     "output_type": "execute_result"
    }
   ],
   "source": [
    "print(id(1000))\n",
    "print(id(1))\n",
    "id(2)"
   ]
  },
  {
   "cell_type": "markdown",
   "metadata": {},
   "source": [
    "print(a)"
   ]
  },
  {
   "cell_type": "code",
   "execution_count": null,
   "metadata": {},
   "outputs": [],
   "source": []
  },
  {
   "cell_type": "code",
   "execution_count": null,
   "metadata": {},
   "outputs": [],
   "source": [
    "\n",
    "\n",
    "\n",
    "\n",
    "\n",
    "\n",
    "\n",
    "\n",
    "\n",
    "\n",
    "\n",
    "\n",
    "\n",
    "\n",
    "\n",
    "\n",
    "\n",
    "\n",
    "\n",
    "\n",
    "\n",
    "\n",
    "\n",
    "\n",
    "\n",
    "\n",
    "\n",
    "\n",
    "\n"
   ]
  }
 ],
 "metadata": {
  "kernelspec": {
   "display_name": "Python 3.10.4 64-bit",
   "language": "python",
   "name": "python3"
  },
  "language_info": {
   "codemirror_mode": {
    "name": "ipython",
    "version": 3
   },
   "file_extension": ".py",
   "mimetype": "text/x-python",
   "name": "python",
   "nbconvert_exporter": "python",
   "pygments_lexer": "ipython3",
   "version": "3.10.4"
  },
  "vscode": {
   "interpreter": {
    "hash": "b7788da725108422b1a71573c9798a39d002e25e78b3bca382d6bc4f934e063b"
   }
  }
 },
 "nbformat": 4,
 "nbformat_minor": 2
}
