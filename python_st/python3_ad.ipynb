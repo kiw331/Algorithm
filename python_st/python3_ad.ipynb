{
 "cells": [
  {
   "attachments": {},
   "cell_type": "markdown",
   "metadata": {},
   "source": [
    "stdin.readline() = input()"
   ]
  },
  {
   "cell_type": "code",
   "execution_count": 2,
   "metadata": {},
   "outputs": [
    {
     "name": "stdout",
     "output_type": "stream",
     "text": [
      "a <class 'str'>\n"
     ]
    }
   ],
   "source": [
    "from sys import stdin\n",
    "\n",
    "a = input()\n",
    "#b = sys.stdin.readline()\n",
    "print(a,type(a))"
   ]
  },
  {
   "cell_type": "code",
   "execution_count": 20,
   "metadata": {},
   "outputs": [
    {
     "data": {
      "text/plain": [
       "True"
      ]
     },
     "execution_count": 20,
     "metadata": {},
     "output_type": "execute_result"
    }
   ],
   "source": [
    "a = 1\n",
    "b = a\n",
    "c = 1\n",
    "\n",
    "a is c"
   ]
  },
  {
   "cell_type": "code",
   "execution_count": 19,
   "metadata": {},
   "outputs": [
    {
     "name": "stdout",
     "output_type": "stream",
     "text": [
      "11 / 12\n",
      "11 12\n"
     ]
    }
   ],
   "source": [
    "a, b = map(int, input().split('/'))\n",
    "print(a,b)\n",
    "\n",
    "# x = input().split()    # input().split()의 결과는 문자열 리스트\n",
    "# m = map(int, x)        # 리스트의 요소를 int로 변환, 결과는 맵 객체\n",
    "# a, b = m               # 맵 객체는 변수 여러 개에 저장할 수 있음"
   ]
  },
  {
   "cell_type": "code",
   "execution_count": 36,
   "metadata": {},
   "outputs": [
    {
     "name": "stdout",
     "output_type": "stream",
     "text": [
      "a id 140705857454448\n",
      "a is b\n",
      "2531882298416\n",
      "140705857454448\n"
     ]
    }
   ],
   "source": [
    "a = 256\n",
    "b = 256\n",
    "print('a id',id(a))\n",
    "if a is b:\n",
    "    print('a is b')\n",
    "else:\n",
    "    print('a is not b')\n",
    "    \n",
    "a +=1\n",
    "print(id(a))\n",
    "print(id(b))"
   ]
  },
  {
   "cell_type": "code",
   "execution_count": 16,
   "metadata": {},
   "outputs": [
    {
     "name": "stdout",
     "output_type": "stream",
     "text": [
      "2044244174992\n",
      "140706623299984\n"
     ]
    },
    {
     "data": {
      "text/plain": [
       "140706623300016"
      ]
     },
     "execution_count": 16,
     "metadata": {},
     "output_type": "execute_result"
    }
   ],
   "source": [
    "print(id(1000))\n",
    "print(id(1))\n",
    "id(2)"
   ]
  },
  {
   "cell_type": "markdown",
   "metadata": {},
   "source": [
    "__res 갱신__  \n",
    "조건문 vs max()/min()  \n",
    "\n",
    "결과: 조건문이 더 빠름"
   ]
  },
  {
   "cell_type": "code",
   "execution_count": 4,
   "metadata": {},
   "outputs": [
    {
     "name": "stdout",
     "output_type": "stream",
     "text": [
      "조건문사용: 5.11372971534729s\n"
     ]
    }
   ],
   "source": [
    "import time\n",
    "import random\n",
    "\n",
    "s = time.time()  # 시작 시간 기록\n",
    "\n",
    "for _ in range(10**7):\n",
    "\n",
    "    res = 100\n",
    "    tmp = random.uniform(0, 200)\n",
    "\n",
    "    if tmp > res:\n",
    "        res = tmp\n",
    "        \n",
    "e = time.time()  # 종료 시간 기록`\n",
    "print(f'조건문사용: {e-s}s')"
   ]
  },
  {
   "cell_type": "code",
   "execution_count": 3,
   "metadata": {},
   "outputs": [
    {
     "name": "stdout",
     "output_type": "stream",
     "text": [
      "max()사용: 7.394166469573975s\n"
     ]
    }
   ],
   "source": [
    "import time\n",
    "import random\n",
    "\n",
    "s = time.time()  # 시작 시간 기록\n",
    "for _ in range(10**7):\n",
    "\n",
    "    res = 100\n",
    "    tmp = random.uniform(0, 200)\n",
    "        \n",
    "    res = max(res, tmp)\n",
    "\n",
    "e = time.time()  # 종료 시간 기록\n",
    "print(f'max()사용: {e-s}s')"
   ]
  },
  {
   "cell_type": "code",
   "execution_count": null,
   "metadata": {},
   "outputs": [
    {
     "name": "stdout",
     "output_type": "stream",
     "text": [
      "삼항연산자 사용: 5.500767946243286s\n"
     ]
    }
   ],
   "source": [
    "import time\n",
    "import random\n",
    "\n",
    "s = time.time()  # 시작 시간 기록\n",
    "for _ in range(10**7):\n",
    "\n",
    "    res = 100\n",
    "    tmp = random.uniform(0, 200)\n",
    "        \n",
    "    res = tmp if tmp > res else res\n",
    "\n",
    "e = time.time()  # 종료 시간 기록\n",
    "print(f'삼항연산자 사용: {e-s}s')"
   ]
  },
  {
   "cell_type": "markdown",
   "metadata": {},
   "source": [
    "### global"
   ]
  },
  {
   "cell_type": "code",
   "execution_count": 15,
   "metadata": {},
   "outputs": [
    {
     "name": "stdout",
     "output_type": "stream",
     "text": [
      "10\n",
      "10\n"
     ]
    }
   ],
   "source": [
    "global_var = 10  # 전역 변수 선언\n",
    "\n",
    "def modify_global():\n",
    "    global_var = 20  # 여기서 'global_var'는 새로운 로컬 변수로 취급됩니다.\n",
    "\n",
    "print(global_var)  # 10 출력\n",
    "modify_global()\n",
    "print(global_var)  # 여전히 10 출력"
   ]
  },
  {
   "cell_type": "code",
   "execution_count": 17,
   "metadata": {},
   "outputs": [
    {
     "name": "stdout",
     "output_type": "stream",
     "text": [
      "10\n",
      "20\n"
     ]
    }
   ],
   "source": [
    "# 사용자 정의 함수에 global 키워드를 써서 전역변수 수정 가능\n",
    "global_var = 10  # 전역 변수 선언\n",
    "\n",
    "def modify_global():\n",
    "    global global_var  # 전역 변수임을 선언\n",
    "    global_var = 20  # 전역 변수 수정\n",
    "\n",
    "print(global_var)  # 처음 값 10 출력\n",
    "modify_global()\n",
    "print(global_var)  # 수정된 값 20 출력"
   ]
  },
  {
   "cell_type": "code",
   "execution_count": 9,
   "metadata": {},
   "outputs": [
    {
     "name": "stdout",
     "output_type": "stream",
     "text": [
      "[1, 2, 3, 4]\n",
      "[1, 2, 3, 4]\n"
     ]
    }
   ],
   "source": [
    "# 전역리스트 선언 - 어디에서나 접근 가능, 원소 추가, 삭제 가능\n",
    "arr = [1,2,3]\n",
    "\n",
    "def parr():\n",
    "    arr.append(4)\n",
    "    #arr.pop()\n",
    "    print(arr)\n",
    "    \n",
    "parr()\n",
    "print(arr)"
   ]
  },
  {
   "cell_type": "code",
   "execution_count": 13,
   "metadata": {},
   "outputs": [
    {
     "name": "stdout",
     "output_type": "stream",
     "text": [
      "[1, 100, 3]\n",
      "[1, 100, 3]\n"
     ]
    }
   ],
   "source": [
    "# 전역리스트 선언 - 어디에서나 접근 가능, 원소 추가 가능\n",
    "arr = [1,2,3]\n",
    "\n",
    "def marr():\n",
    "    arr[1] = 100\n",
    "    print(arr)\n",
    "    \n",
    "marr()\n",
    "print(arr)"
   ]
  },
  {
   "cell_type": "code",
   "execution_count": null,
   "metadata": {},
   "outputs": [],
   "source": []
  }
 ],
 "metadata": {
  "kernelspec": {
   "display_name": "condanote",
   "language": "python",
   "name": "condanote"
  },
  "language_info": {
   "codemirror_mode": {
    "name": "ipython",
    "version": 3
   },
   "file_extension": ".py",
   "mimetype": "text/x-python",
   "name": "python",
   "nbconvert_exporter": "python",
   "pygments_lexer": "ipython3",
   "version": "3.9.16"
  },
  "vscode": {
   "interpreter": {
    "hash": "2e23fecce04ce07c0bece0b43bfe734bbad1ee3e70c94bc8c49b0e86956a7b26"
   }
  }
 },
 "nbformat": 4,
 "nbformat_minor": 2
}
