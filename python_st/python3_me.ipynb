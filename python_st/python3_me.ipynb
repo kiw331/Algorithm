{
 "cells": [
  {
   "cell_type": "markdown",
   "metadata": {},
   "source": [
    "* **정수0을 n개 채운 리스트**"
   ]
  },
  {
   "cell_type": "code",
   "execution_count": 13,
   "metadata": {},
   "outputs": [
    {
     "data": {
      "text/plain": [
       "[0, 0, 0, 0]"
      ]
     },
     "execution_count": 13,
     "metadata": {},
     "output_type": "execute_result"
    }
   ],
   "source": [
    "m, n = 3,4\n",
    "[0 for _ in range(n)]"
   ]
  },
  {
   "cell_type": "code",
   "execution_count": 14,
   "metadata": {},
   "outputs": [
    {
     "data": {
      "text/plain": [
       "[0, 0, 0, 0]"
      ]
     },
     "execution_count": 14,
     "metadata": {},
     "output_type": "execute_result"
    }
   ],
   "source": [
    "[0 ] * n"
   ]
  },
  {
   "cell_type": "code",
   "execution_count": 11,
   "metadata": {},
   "outputs": [
    {
     "name": "stdout",
     "output_type": "stream",
     "text": [
      "[0]\n",
      "['aaaa']\n"
     ]
    }
   ],
   "source": [
    "print([0 * n])      #이렇게는 안됨\n",
    "print(['a' * n])    #문자"
   ]
  },
  {
   "cell_type": "markdown",
   "metadata": {},
   "source": [
    "* **m개의 \\* 문자열 n개를 채운 리스트**"
   ]
  },
  {
   "cell_type": "code",
   "execution_count": 6,
   "metadata": {},
   "outputs": [
    {
     "data": {
      "text/plain": [
       "['***', '***', '***']"
      ]
     },
     "execution_count": 6,
     "metadata": {},
     "output_type": "execute_result"
    }
   ],
   "source": [
    "a = ['*'*n for _ in range(n)]\n",
    "print(a)\n",
    "\n",
    "a = []"
   ]
  },
  {
   "cell_type": "markdown",
   "metadata": {},
   "source": [
    "* **m개의 \\* 리스트 n개를 채운 리스트**"
   ]
  },
  {
   "cell_type": "code",
   "execution_count": 3,
   "metadata": {},
   "outputs": [
    {
     "data": {
      "text/plain": [
       "[['*', '*', '*'], ['*', '*', '*'], ['*', '*', '*']]"
      ]
     },
     "execution_count": 3,
     "metadata": {},
     "output_type": "execute_result"
    }
   ],
   "source": [
    "a = [list('*'*n) for _ in range(n)]\n",
    "a"
   ]
  },
  {
   "cell_type": "code",
   "execution_count": 5,
   "metadata": {},
   "outputs": [
    {
     "data": {
      "text/plain": [
       "[['*', '*', '*'], ['*', '*', '*'], ['*', '*', '*']]"
      ]
     },
     "execution_count": 5,
     "metadata": {},
     "output_type": "execute_result"
    }
   ],
   "source": [
    "a = [['*'] * n for _ in range(n)]\n",
    "a"
   ]
  },
  {
   "cell_type": "markdown",
   "metadata": {},
   "source": [
    "조건문 주의 <br>\n",
    "\n",
    "```\n",
    "if 'a' or 'b' in text -> 틀린표현. 앞에가 먼저 결합되서? 항상 True가 되는 듯 (공백아닌 문자열은 True)\n",
    "```\n",
    "\n",
    "\n",
    "```\n",
    "if 'a' in text or 'b' in text:\n",
    "```\n"
   ]
  },
  {
   "cell_type": "code",
   "execution_count": 22,
   "metadata": {},
   "outputs": [
    {
     "name": "stdout",
     "output_type": "stream",
     "text": [
      "o1\n",
      "o2\n"
     ]
    }
   ],
   "source": [
    "text = 'bbb'\n",
    "if 'c' or 'd' in text:  #항상 True\n",
    "    print('o1') \n",
    "if 'a' in text or 'b' in text:\n",
    "    print('o2')"
   ]
  },
  {
   "cell_type": "markdown",
   "metadata": {},
   "source": [
    "- **리스트에서 최대, 최소값의 인덱스 찾기**\n",
    "<br>\n",
    "중복원소가 있어도 가장 앞에꺼 반환"
   ]
  },
  {
   "cell_type": "code",
   "execution_count": 2,
   "metadata": {},
   "outputs": [
    {
     "name": "stdout",
     "output_type": "stream",
     "text": [
      "5 3\n"
     ]
    }
   ],
   "source": [
    "a = [100, -1, 10, 1000, 11, -200, 0, -200]\n",
    "minidx = a.index(min(a))\n",
    "maxidx = a.index(max(a))\n",
    "\n",
    "print(minidx, maxidx)"
   ]
  },
  {
   "cell_type": "markdown",
   "metadata": {},
   "source": [
    "- 2차원 리스트의 최대값"
   ]
  },
  {
   "cell_type": "code",
   "execution_count": 12,
   "metadata": {},
   "outputs": [
    {
     "data": {
      "text/plain": [
       "12"
      ]
     },
     "execution_count": 12,
     "metadata": {},
     "output_type": "execute_result"
    }
   ],
   "source": [
    "a = [[1,2,3,4],[5,6,7,8],[9,10,11,12]]\n",
    "max(map(max, a))"
   ]
  },
  {
   "cell_type": "markdown",
   "metadata": {},
   "source": [
    "리스트 표현식\n",
    "a[i+1]<=a[i]가 되도록 변경 ( 점점 작아지도록 )"
   ]
  },
  {
   "cell_type": "code",
   "execution_count": 15,
   "metadata": {},
   "outputs": [
    {
     "data": {
      "text/plain": [
       "[1000, 10, 10, 10, 1]"
      ]
     },
     "execution_count": 15,
     "metadata": {},
     "output_type": "execute_result"
    }
   ],
   "source": [
    "a = [1000, 10, 10000, 100, 1]\n",
    "for i in range(1, len(a)):\n",
    "    if a[i] > a[i-1]:\n",
    "        a[i] = a[i-1]\n",
    "a"
   ]
  },
  {
   "cell_type": "code",
   "execution_count": 14,
   "metadata": {},
   "outputs": [
    {
     "data": {
      "text/plain": [
       "[1, 1, 2, 3, 4]"
      ]
     },
     "execution_count": 14,
     "metadata": {},
     "output_type": "execute_result"
    }
   ],
   "source": [
    "# 실패(앞에 바꾼게 적용이 안됨)\n",
    "\n",
    "# a = [1000, 10, 10000, 100, 1]\n",
    "a = [1, 2, 3, 4, 5]\n",
    "a = a[:1] + [min(a[i-1],a[i]) for i in range(1,len(a))]\n",
    "a"
   ]
  },
  {
   "cell_type": "markdown",
   "metadata": {},
   "source": [
    "## __리스트 표현식__"
   ]
  },
  {
   "cell_type": "markdown",
   "metadata": {},
   "source": [
    "- **표현식 안에서 변수 접근**"
   ]
  },
  {
   "cell_type": "code",
   "execution_count": 10,
   "metadata": {},
   "outputs": [
    {
     "data": {
      "text/plain": [
       "[[1, 2, 3, 4], [5, 6, 7, 8], [9, 10, 11, 12]]"
      ]
     },
     "execution_count": 10,
     "metadata": {},
     "output_type": "execute_result"
    }
   ],
   "source": [
    "a = [[1,2,3,4],[5,6,7,8],[9,10,11,12]]\n",
    "\n",
    "[[j for j in i] for i in a ]\n",
    "# j에 직접 접근해야될 때 사용가능 j.data"
   ]
  },
  {
   "cell_type": "code",
   "execution_count": 11,
   "metadata": {},
   "outputs": [
    {
     "ename": "NameError",
     "evalue": "name 'i' is not defined",
     "output_type": "error",
     "traceback": [
      "\u001b[1;31m---------------------------------------------------------------------------\u001b[0m",
      "\u001b[1;31mNameError\u001b[0m                                 Traceback (most recent call last)",
      "\u001b[1;32m<ipython-input-11-07b3eecce944>\u001b[0m in \u001b[0;36m<module>\u001b[1;34m\u001b[0m\n\u001b[0;32m      1\u001b[0m \u001b[1;31m# 2차원 리스트의 원소를 한번에 출력-실패\u001b[0m\u001b[1;33m\u001b[0m\u001b[1;33m\u001b[0m\u001b[1;33m\u001b[0m\u001b[0m\n\u001b[1;32m----> 2\u001b[1;33m \u001b[1;33m[\u001b[0m\u001b[0mj\u001b[0m \u001b[1;32mfor\u001b[0m \u001b[0mj\u001b[0m \u001b[1;32min\u001b[0m \u001b[0mi\u001b[0m \u001b[1;32mfor\u001b[0m \u001b[0mi\u001b[0m \u001b[1;32min\u001b[0m \u001b[0ma\u001b[0m \u001b[1;33m]\u001b[0m\u001b[1;33m\u001b[0m\u001b[1;33m\u001b[0m\u001b[0m\n\u001b[0m",
      "\u001b[1;31mNameError\u001b[0m: name 'i' is not defined"
     ]
    }
   ],
   "source": [
    "# 2차원 리스트의 원소를 한번에 출력-실패\n",
    "[j for j in i for i in a ]"
   ]
  },
  {
   "cell_type": "markdown",
   "metadata": {},
   "source": [
    "## 집합"
   ]
  },
  {
   "cell_type": "markdown",
   "metadata": {},
   "source": [
    "- 중복원소 제거 가능"
   ]
  },
  {
   "cell_type": "code",
   "execution_count": 4,
   "metadata": {},
   "outputs": [
    {
     "name": "stdout",
     "output_type": "stream",
     "text": [
      "{'a', 'b', 'c'}\n",
      "{'a', 'b', 'c'}\n",
      "{'a', 'b', 'c'}\n"
     ]
    }
   ],
   "source": [
    "s1 = set('abcc')\n",
    "s2 = set(['a','b','b','c'])\n",
    "s3 = set(('a','b','b','c'))\n",
    "print(s1,s2,s3,sep='\\n')"
   ]
  },
  {
   "cell_type": "markdown",
   "metadata": {},
   "source": [
    "조합"
   ]
  },
  {
   "cell_type": "code",
   "execution_count": 5,
   "metadata": {},
   "outputs": [
    {
     "data": {
      "text/plain": [
       "{()}"
      ]
     },
     "execution_count": 5,
     "metadata": {},
     "output_type": "execute_result"
    }
   ],
   "source": [
    "items = {'1', '2', '3', '4', '5'}\n",
    "from itertools import combinations\n",
    "set(combinations(items, 0))"
   ]
  },
  {
   "cell_type": "markdown",
   "metadata": {},
   "source": [
    "for com in combinations(a, 3):\n",
    "    ...\n",
    "<br>\n",
    "위처럼 반복문에 조합 직접 접근하면 메모리 초과 나던거 해결 가능\n",
    "(boj1062_가르침)"
   ]
  },
  {
   "cell_type": "markdown",
   "metadata": {},
   "source": [
    "2차원 리스트에서 최대값 구하기"
   ]
  },
  {
   "cell_type": "code",
   "execution_count": 2,
   "metadata": {},
   "outputs": [
    {
     "data": {
      "text/plain": [
       "100"
      ]
     },
     "execution_count": 2,
     "metadata": {},
     "output_type": "execute_result"
    }
   ],
   "source": [
    "# map 활용\n",
    "a = [[100,2,3,4],[5,6,7,8],[9,10,11,12]]\n",
    "\n",
    "max(map(max, a))"
   ]
  },
  {
   "cell_type": "markdown",
   "metadata": {},
   "source": [
    "- 2차원 리스트 슬라이싱 주의\n",
    "```\n",
    "열을 고정하고 행을 슬라이싱하는건 안됨\n",
    "```"
   ]
  },
  {
   "cell_type": "code",
   "execution_count": 5,
   "metadata": {},
   "outputs": [
    {
     "name": "stdout",
     "output_type": "stream",
     "text": [
      "[5, 6, 7, 8]\n",
      "[5, 6, 7, 8]\n",
      "[5, 6, 7, 8]\n"
     ]
    }
   ],
   "source": [
    "a = [[1, 2, 3, 4], [5, 6, 7, 8], [9, 10, 11, 12],[13, 14, 15, 16]]\n",
    "\n",
    "print(a[1][:4])\n",
    "print(a[:4][1])     #[2, 6, 10, 14]가 반환되는걸 기대 했으나 안된다. \n",
    "print(a[:4][1])   #앞에 슬라이스와 관계 없이 print(a[1])와 같은 결과 나옴"
   ]
  },
  {
   "cell_type": "code",
   "execution_count": 6,
   "metadata": {},
   "outputs": [
    {
     "data": {
      "text/plain": [
       "[2, 6, 10, 14]"
      ]
     },
     "execution_count": 6,
     "metadata": {},
     "output_type": "execute_result"
    }
   ],
   "source": [
    "[a[i][1] for i in range(len(a))]    # 대신 리스트 표현식 사용"
   ]
  },
  {
   "cell_type": "markdown",
   "metadata": {},
   "source": [
    "차례로 더 한 리스트 만들기 <br>\n",
    "```\n",
    "arr[0], arr[0]+arr[1], arr[0]+arr[1]+arr[2], ...\n",
    "```"
   ]
  },
  {
   "cell_type": "code",
   "execution_count": 3,
   "metadata": {},
   "outputs": [
    {
     "data": {
      "text/plain": [
       "[5, 6, 9, 14, 24, 31, 35, 44, 46, 54]"
      ]
     },
     "execution_count": 3,
     "metadata": {},
     "output_type": "execute_result"
    }
   ],
   "source": [
    "arr = [5, 1, 3, 5, 10, 7, 4, 9, 2, 8]\n",
    "\n",
    "l = [0 for _ in range(len(arr))] \n",
    "for i in range(len(arr)):\n",
    "    l[i] = l[i-1]+arr[i]    #논리적으론 안맞지만(sum[-1]) 마지막원소도 0으로 초기화해서 같은 결과나옴\n",
    "l"
   ]
  },
  {
   "cell_type": "code",
   "execution_count": 4,
   "metadata": {},
   "outputs": [
    {
     "data": {
      "text/plain": [
       "[0, 5, 6, 9, 14, 24, 31, 35, 44, 46, 54]"
      ]
     },
     "execution_count": 4,
     "metadata": {},
     "output_type": "execute_result"
    }
   ],
   "source": [
    "arr = [5, 1, 3, 5, 10, 7, 4, 9, 2, 8]\n",
    "\n",
    "l = [0] #초기화 안할 때는 앞에 0넣어야됨.\n",
    "for i in range(len(arr)):\n",
    "    l.append(l[-1] + arr[i])\n",
    "l"
   ]
  },
  {
   "cell_type": "code",
   "execution_count": 5,
   "metadata": {},
   "outputs": [
    {
     "data": {
      "text/plain": [
       "[5, 6, 9, 14, 24, 31, 35, 44, 46, 54]"
      ]
     },
     "execution_count": 5,
     "metadata": {},
     "output_type": "execute_result"
    }
   ],
   "source": [
    "arr = [5, 1, 3, 5, 10, 7, 4, 9, 2, 8]\n",
    "\n",
    "l = [sum(arr[:i]) for i in range(1,len(arr)+1)] #간단해보이지만 비효율적?\n",
    "l"
   ]
  },
  {
   "cell_type": "markdown",
   "metadata": {},
   "source": [
    "#### 2차원 리스트에서 3번째 원소의 합 구하기 <br>\n",
    "ex) 간선 리스트에서 가중치의 합 구하기"
   ]
  },
  {
   "cell_type": "code",
   "execution_count": 9,
   "metadata": {},
   "outputs": [
    {
     "data": {
      "text/plain": [
       "15"
      ]
     },
     "execution_count": 9,
     "metadata": {},
     "output_type": "execute_result"
    }
   ],
   "source": [
    "arr = [[1,2,3],[2,3,4],[4,5,6]]\n",
    "sum(arr[:][2])  #위에랑 마찬가지로 행 슬라이싱이 안되서 sum(a[2])와 같은 결과가 나옴"
   ]
  },
  {
   "cell_type": "code",
   "execution_count": 7,
   "metadata": {},
   "outputs": [
    {
     "data": {
      "text/plain": [
       "13"
      ]
     },
     "execution_count": 7,
     "metadata": {},
     "output_type": "execute_result"
    }
   ],
   "source": [
    "sum([arr[i][2] for i in range(len(arr))])    # 대신 리스트 표현식 사용"
   ]
  }
 ],
 "metadata": {
  "kernelspec": {
   "display_name": "Python 3.7.4 ('base')",
   "language": "python",
   "name": "python3"
  },
  "language_info": {
   "codemirror_mode": {
    "name": "ipython",
    "version": 3
   },
   "file_extension": ".py",
   "mimetype": "text/x-python",
   "name": "python",
   "nbconvert_exporter": "python",
   "pygments_lexer": "ipython3",
   "version": "3.7.4"
  },
  "orig_nbformat": 4,
  "vscode": {
   "interpreter": {
    "hash": "2e23fecce04ce07c0bece0b43bfe734bbad1ee3e70c94bc8c49b0e86956a7b26"
   }
  }
 },
 "nbformat": 4,
 "nbformat_minor": 2
}
